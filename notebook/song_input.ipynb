{
 "cells": [
  {
   "cell_type": "markdown",
   "metadata": {},
   "source": [
    "# Wprowadzanie tekstów piosenek"
   ]
  },
  {
   "cell_type": "code",
   "execution_count": 54,
   "metadata": {},
   "outputs": [],
   "source": [
    "import pandas as pd\n",
    "from dotenv import dotenv_values\n",
    "from openai import OpenAI\n",
    "from qdrant_client import QdrantClient\n",
    "from qdrant_client.models import Distance, VectorParams\n",
    "import uuid"
   ]
  },
  {
   "cell_type": "code",
   "execution_count": null,
   "metadata": {},
   "outputs": [],
   "source": [
    "env = dotenv_values('.env')\n",
    "\n",
    "EMBEDDING_MODEL = 'text-embedding-ada-002'\n",
    "EMBEDDING_DIM = 1536\n",
    "QDRANT_COLLECTION_NAME = 'dylans_songs'\n",
    "\n",
    "openai_client = OpenAI(api_key=env['OPENAI_API_KEY'])\n",
    "\n",
    "\n",
    "def get_qdrant_client():\n",
    "    return QdrantClient(\n",
    "        url=env[\"QDRANT_URL\"], \n",
    "        api_key=env[\"QDRANT_API_KEY\"],\n",
    "    )\n",
    "\n",
    "def assure_db_collection_exists():\n",
    "    qdrant_client = get_qdrant_client()\n",
    "    if not qdrant_client.collection_exists(QDRANT_COLLECTION_NAME):\n",
    "        print('Tworzę kolekcję')\n",
    "        qdrant_client.create_collection(\n",
    "            collection_name=QDRANT_COLLECTION_NAME,\n",
    "            vectors_config=VectorParams(\n",
    "                size=EMBEDDING_DIM, \n",
    "                distance=Distance.COSINE,\n",
    "            ),\n",
    "        )\n",
    "    else:\n",
    "        print(\"Kolekcja już istnieje\")\n",
    "\n",
    "def get_embedding(text):\n",
    "    result = openai_client.embeddings.create(\n",
    "        input=[text],\n",
    "        model=EMBEDDING_MODEL,\n",
    "    )\n",
    "    embedding = result.data[0].embedding\n",
    "    tokens_used = result.usage.total_tokens # Pobranie liczby tokenów\n",
    "    return embedding, tokens_used\n",
    "\n",
    "def upload_song_to_qdrant(title, lyrics):\n",
    "    qdrant_client = get_qdrant_client()\n",
    "    embedding, tokens_used = get_embedding(lyrics)  # Generowanie embeddingu\n",
    "    metadata = {\n",
    "        \"title\": title,\n",
    "        \"lyrics\": lyrics  # Tylko tekst piosenki w metadanych\n",
    "    }\n",
    "    # Dodanie pojedynczego wektora do kolekcji\n",
    "    point_id = str(uuid.uuid4())\n",
    "    point = {\n",
    "        \"id\": point_id,  # Tytuł piosenki jako unikalny identyfikator\n",
    "        \"vector\": embedding,  # Embedding piosenki\n",
    "        \"payload\": metadata  # Metadane (tekst piosenki)\n",
    "    }\n",
    "    qdrant_client.upsert(\n",
    "        collection_name=QDRANT_COLLECTION_NAME,\n",
    "        points=[point]  # Tytuł jako klucz\n",
    "    )\n",
    "    print(f\"Piosenka '{title}' została dodana do bazy.\")\n",
    "    return tokens_used\n",
    "\n",
    "assure_db_collection_exists()"
   ]
  },
  {
   "cell_type": "code",
   "execution_count": null,
   "metadata": {},
   "outputs": [],
   "source": [
    "\n",
    "while True:\n",
    "    # Pobieranie danych od użytkownika\n",
    "    title = input(\"Podaj tytuł piosenki (lub wpisz 'exit', aby zakończyć): \")\n",
    "    if title.lower() == 'exit':\n",
    "        break\n",
    "    \n",
    "    lyrics = input(\"Podaj tekst piosenki: \")\n",
    "    \n",
    "    # Dodawanie danych do DataFrame\n",
    "    df = pd.concat([df, pd.DataFrame({\"Title\": [title], \"Lyrics\": [lyrics]})], ignore_index=True)\n",
    "    print(f\"Dodano: {title}\")\n"
   ]
  },
  {
   "cell_type": "code",
   "execution_count": null,
   "metadata": {},
   "outputs": [],
   "source": [
    "# Zmienna do śledzenia liczby użytych tokenów\n",
    "total_tokens = 0\n",
    "\n",
    "# Iteracja po DataFrame i wysyłanie danych pojedynczo\n",
    "for _, row in df.iterrows():\n",
    "    tokens_used = upload_song_to_qdrant(row['Title'], row['Lyrics'])\n",
    "    total_tokens += tokens_used\n",
    "\n",
    "# Wyświetlenie liczby użytych tokenów\n",
    "print(f\"Łączna liczba użytych tokenów: {total_tokens}\")"
   ]
  },
  {
   "cell_type": "code",
   "execution_count": null,
   "metadata": {},
   "outputs": [],
   "source": [
    "\n",
    "# Zapis DataFrame do pliku CSV\n",
    "df.to_csv(\"dylans_songs.csv\", index=False)\n",
    "print(\"Piosenki zapisano w pliku 'dylans_songs.csv'.\")\n"
   ]
  }
 ],
 "metadata": {
  "kernelspec": {
   "display_name": "od_zera_do_ai",
   "language": "python",
   "name": "python3"
  },
  "language_info": {
   "codemirror_mode": {
    "name": "ipython",
    "version": 3
   },
   "file_extension": ".py",
   "mimetype": "text/x-python",
   "name": "python",
   "nbconvert_exporter": "python",
   "pygments_lexer": "ipython3",
   "version": "3.11.9"
  }
 },
 "nbformat": 4,
 "nbformat_minor": 4
}
